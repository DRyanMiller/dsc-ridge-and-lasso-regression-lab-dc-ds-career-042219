{
 "cells": [
  {
   "cell_type": "markdown",
   "metadata": {},
   "source": [
    "# Ridge and Lasso Regression - Lab"
   ]
  },
  {
   "cell_type": "markdown",
   "metadata": {},
   "source": [
    "## Introduction"
   ]
  },
  {
   "cell_type": "markdown",
   "metadata": {},
   "source": [
    "In this lab, you'll practice your knowledge on Ridge and Lasso regression!"
   ]
  },
  {
   "cell_type": "markdown",
   "metadata": {},
   "source": [
    "## Objectives"
   ]
  },
  {
   "cell_type": "markdown",
   "metadata": {},
   "source": [
    "You will be able to:"
   ]
  },
  {
   "cell_type": "markdown",
   "metadata": {},
   "source": [
    "- Use Lasso and ridge regression in Python\n",
    "- Compare Lasso and Ridge with standard regression"
   ]
  },
  {
   "cell_type": "markdown",
   "metadata": {},
   "source": [
    "## Housing Prices Data"
   ]
  },
  {
   "cell_type": "markdown",
   "metadata": {},
   "source": [
    "Let's look at yet another house pricing data set."
   ]
  },
  {
   "cell_type": "code",
<<<<<<< HEAD
   "execution_count": 1,
=======
   "execution_count": null,
>>>>>>> cde55744224318e518dcd8fd2554a774079cd53c
   "metadata": {},
   "outputs": [],
   "source": [
    "import pandas as pd\n",
    "import warnings\n",
    "warnings.filterwarnings('ignore')\n",
    "\n",
    "df = pd.read_csv('Housing_Prices/train.csv')"
   ]
  },
  {
   "cell_type": "markdown",
   "metadata": {},
   "source": [
    "Look at df.info"
   ]
  },
  {
   "cell_type": "code",
<<<<<<< HEAD
   "execution_count": 2,
   "metadata": {
    "scrolled": true
   },
   "outputs": [
    {
     "name": "stdout",
     "output_type": "stream",
     "text": [
      "<class 'pandas.core.frame.DataFrame'>\n",
      "RangeIndex: 1460 entries, 0 to 1459\n",
      "Data columns (total 81 columns):\n",
      "Id               1460 non-null int64\n",
      "MSSubClass       1460 non-null int64\n",
      "MSZoning         1460 non-null object\n",
      "LotFrontage      1201 non-null float64\n",
      "LotArea          1460 non-null int64\n",
      "Street           1460 non-null object\n",
      "Alley            91 non-null object\n",
      "LotShape         1460 non-null object\n",
      "LandContour      1460 non-null object\n",
      "Utilities        1460 non-null object\n",
      "LotConfig        1460 non-null object\n",
      "LandSlope        1460 non-null object\n",
      "Neighborhood     1460 non-null object\n",
      "Condition1       1460 non-null object\n",
      "Condition2       1460 non-null object\n",
      "BldgType         1460 non-null object\n",
      "HouseStyle       1460 non-null object\n",
      "OverallQual      1460 non-null int64\n",
      "OverallCond      1460 non-null int64\n",
      "YearBuilt        1460 non-null int64\n",
      "YearRemodAdd     1460 non-null int64\n",
      "RoofStyle        1460 non-null object\n",
      "RoofMatl         1460 non-null object\n",
      "Exterior1st      1460 non-null object\n",
      "Exterior2nd      1460 non-null object\n",
      "MasVnrType       1452 non-null object\n",
      "MasVnrArea       1452 non-null float64\n",
      "ExterQual        1460 non-null object\n",
      "ExterCond        1460 non-null object\n",
      "Foundation       1460 non-null object\n",
      "BsmtQual         1423 non-null object\n",
      "BsmtCond         1423 non-null object\n",
      "BsmtExposure     1422 non-null object\n",
      "BsmtFinType1     1423 non-null object\n",
      "BsmtFinSF1       1460 non-null int64\n",
      "BsmtFinType2     1422 non-null object\n",
      "BsmtFinSF2       1460 non-null int64\n",
      "BsmtUnfSF        1460 non-null int64\n",
      "TotalBsmtSF      1460 non-null int64\n",
      "Heating          1460 non-null object\n",
      "HeatingQC        1460 non-null object\n",
      "CentralAir       1460 non-null object\n",
      "Electrical       1459 non-null object\n",
      "1stFlrSF         1460 non-null int64\n",
      "2ndFlrSF         1460 non-null int64\n",
      "LowQualFinSF     1460 non-null int64\n",
      "GrLivArea        1460 non-null int64\n",
      "BsmtFullBath     1460 non-null int64\n",
      "BsmtHalfBath     1460 non-null int64\n",
      "FullBath         1460 non-null int64\n",
      "HalfBath         1460 non-null int64\n",
      "BedroomAbvGr     1460 non-null int64\n",
      "KitchenAbvGr     1460 non-null int64\n",
      "KitchenQual      1460 non-null object\n",
      "TotRmsAbvGrd     1460 non-null int64\n",
      "Functional       1460 non-null object\n",
      "Fireplaces       1460 non-null int64\n",
      "FireplaceQu      770 non-null object\n",
      "GarageType       1379 non-null object\n",
      "GarageYrBlt      1379 non-null float64\n",
      "GarageFinish     1379 non-null object\n",
      "GarageCars       1460 non-null int64\n",
      "GarageArea       1460 non-null int64\n",
      "GarageQual       1379 non-null object\n",
      "GarageCond       1379 non-null object\n",
      "PavedDrive       1460 non-null object\n",
      "WoodDeckSF       1460 non-null int64\n",
      "OpenPorchSF      1460 non-null int64\n",
      "EnclosedPorch    1460 non-null int64\n",
      "3SsnPorch        1460 non-null int64\n",
      "ScreenPorch      1460 non-null int64\n",
      "PoolArea         1460 non-null int64\n",
      "PoolQC           7 non-null object\n",
      "Fence            281 non-null object\n",
      "MiscFeature      54 non-null object\n",
      "MiscVal          1460 non-null int64\n",
      "MoSold           1460 non-null int64\n",
      "YrSold           1460 non-null int64\n",
      "SaleType         1460 non-null object\n",
      "SaleCondition    1460 non-null object\n",
      "SalePrice        1460 non-null int64\n",
      "dtypes: float64(3), int64(35), object(43)\n",
      "memory usage: 924.0+ KB\n"
     ]
    }
   ],
   "source": [
    "# Your code here\n",
    "df.info()"
=======
   "execution_count": null,
   "metadata": {},
   "outputs": [],
   "source": [
    "# Your code here"
>>>>>>> cde55744224318e518dcd8fd2554a774079cd53c
   ]
  },
  {
   "cell_type": "markdown",
   "metadata": {},
   "source": [
    "First, make a selection of the data by removing some of the data with `dtype = object`, this way our first model only contains **continuous features**\n",
    "\n",
    "Make sure to remove the SalesPrice column from the predictors (which you store in `X`), then replace missing inputs by the median per feature.\n",
    "\n",
    "Store the target in `y`."
   ]
  },
  {
   "cell_type": "code",
<<<<<<< HEAD
   "execution_count": 42,
   "metadata": {
    "scrolled": true
   },
   "outputs": [],
   "source": [
    "# Load necessary packages\n",
    "import numpy as np\n",
    "\n",
    "# remove \"object\"-type features and SalePrice from `X`\n",
    "X = df.copy()\n",
    "for column in X.columns:\n",
    "    if X[column].dtype=='O':\n",
    "        X.drop([column], axis=1, inplace=True)\n",
    "    if column=='SalePrice':\n",
    "        X.drop([column], axis=1, inplace=True)\n",
    "    if column=='Id':\n",
    "        X.drop([column], axis=1, inplace=True)\n",
    "# Impute null values\n",
    "\n",
    "for column in X.columns:\n",
    "    X[column].fillna(np.nanmedian(X[column]), inplace=True)\n",
    "\n",
    "\n",
    "# Create y\n",
    "y = df['SalePrice']"
=======
   "execution_count": null,
   "metadata": {},
   "outputs": [],
   "source": [
    "# Load necessary packages\n",
    "\n",
    "\n",
    "# remove \"object\"-type features and SalesPrice from `X`\n",
    "\n",
    "\n",
    "# Impute null values\n",
    "\n",
    "\n",
    "# Create y\n"
>>>>>>> cde55744224318e518dcd8fd2554a774079cd53c
   ]
  },
  {
   "cell_type": "markdown",
   "metadata": {},
   "source": [
    "Look at the information of `X` again"
   ]
  },
  {
   "cell_type": "code",
<<<<<<< HEAD
   "execution_count": 43,
   "metadata": {
    "scrolled": true
   },
   "outputs": [
    {
     "name": "stdout",
     "output_type": "stream",
     "text": [
      "<class 'pandas.core.frame.DataFrame'>\n",
      "RangeIndex: 1460 entries, 0 to 1459\n",
      "Data columns (total 36 columns):\n",
      "MSSubClass       1460 non-null int64\n",
      "LotFrontage      1460 non-null float64\n",
      "LotArea          1460 non-null int64\n",
      "OverallQual      1460 non-null int64\n",
      "OverallCond      1460 non-null int64\n",
      "YearBuilt        1460 non-null int64\n",
      "YearRemodAdd     1460 non-null int64\n",
      "MasVnrArea       1460 non-null float64\n",
      "BsmtFinSF1       1460 non-null int64\n",
      "BsmtFinSF2       1460 non-null int64\n",
      "BsmtUnfSF        1460 non-null int64\n",
      "TotalBsmtSF      1460 non-null int64\n",
      "1stFlrSF         1460 non-null int64\n",
      "2ndFlrSF         1460 non-null int64\n",
      "LowQualFinSF     1460 non-null int64\n",
      "GrLivArea        1460 non-null int64\n",
      "BsmtFullBath     1460 non-null int64\n",
      "BsmtHalfBath     1460 non-null int64\n",
      "FullBath         1460 non-null int64\n",
      "HalfBath         1460 non-null int64\n",
      "BedroomAbvGr     1460 non-null int64\n",
      "KitchenAbvGr     1460 non-null int64\n",
      "TotRmsAbvGrd     1460 non-null int64\n",
      "Fireplaces       1460 non-null int64\n",
      "GarageYrBlt      1460 non-null float64\n",
      "GarageCars       1460 non-null int64\n",
      "GarageArea       1460 non-null int64\n",
      "WoodDeckSF       1460 non-null int64\n",
      "OpenPorchSF      1460 non-null int64\n",
      "EnclosedPorch    1460 non-null int64\n",
      "3SsnPorch        1460 non-null int64\n",
      "ScreenPorch      1460 non-null int64\n",
      "PoolArea         1460 non-null int64\n",
      "MiscVal          1460 non-null int64\n",
      "MoSold           1460 non-null int64\n",
      "YrSold           1460 non-null int64\n",
      "dtypes: float64(3), int64(33)\n",
      "memory usage: 410.7 KB\n"
     ]
    }
   ],
   "source": [
    "X.info()"
   ]
=======
   "execution_count": null,
   "metadata": {},
   "outputs": [],
   "source": []
>>>>>>> cde55744224318e518dcd8fd2554a774079cd53c
  },
  {
   "cell_type": "markdown",
   "metadata": {},
   "source": [
    "## Let's use this data to perform a first naive linear regression model"
   ]
  },
  {
   "cell_type": "markdown",
   "metadata": {},
   "source": [
    "Compute the R squared and the MSE for both train and test set."
   ]
  },
  {
   "cell_type": "code",
<<<<<<< HEAD
   "execution_count": 44,
   "metadata": {},
   "outputs": [
    {
     "name": "stdout",
     "output_type": "stream",
     "text": [
      "Train MSE: 1156632099.57 \n",
      " Train R^2: 0.8203603236953021 \n",
      " Test MSE: 1330122536.99 \n",
      " Test R^2: 0.774974393347938\n"
     ]
    },
    {
     "data": {
      "text/plain": [
       "array([-1.99652837e+02, -6.06293996e+01,  4.24369736e-01,  1.81030640e+04,\n",
       "        4.62784209e+03,  2.41251654e+02,  1.03218442e+02,  3.15739068e+01,\n",
       "        1.17705652e+01, -6.48380533e-01, -8.33581918e-01,  1.02886028e+01,\n",
       "        1.88041815e+01,  1.83930854e+01,  2.81705671e+00,  4.00143236e+01,\n",
       "        8.82947022e+03, -5.77796974e+01,  1.62216678e+03, -2.91906559e+03,\n",
       "       -1.09130610e+04, -1.51132419e+04,  4.07577161e+03,  2.11354365e+03,\n",
       "        1.44779548e+02,  1.32386207e+04, -1.92735796e+01,  2.60288804e+01,\n",
       "        1.92656039e+00,  2.83034209e+00,  2.72109191e+01,  2.91052098e+01,\n",
       "       -9.66166385e+01, -1.83718103e-01,  5.42012582e+02, -5.26802044e+02])"
      ]
     },
     "execution_count": 44,
     "metadata": {},
     "output_type": "execute_result"
    }
   ],
   "source": [
    "from sklearn.metrics import mean_squared_error, mean_squared_log_error\n",
    "from sklearn.model_selection import train_test_split\n",
    "from sklearn.linear_model import LinearRegression\n",
    "# Split in train and test\n",
    "X_train, X_test, y_train, y_test = train_test_split(X,y)\n",
    "\n",
    "# Fit the model and print R2 and MSE for train and test\n",
    "lm = LinearRegression()\n",
    "lm.fit(X_train, y_train)\n",
    "y_hat_train = lm.predict(X_train)\n",
    "y_hat_test = lm.predict(X_test)\n",
    "train_mse = mean_squared_error(y_train, y_hat_train)\n",
    "test_mse = mean_squared_error(y_test, y_hat_test)\n",
    "train_score = lm.score(X_train, y_train)\n",
    "test_score = lm.score(X_test, y_test)\n",
    "\n",
    "print(\"Train MSE: {}\".format(round(train_mse,2)), \"\\n\", \"Train R^2: {}\".format(train_score), \n",
    "      '\\n', \"Test MSE: {}\".format(round(test_mse, 2)),'\\n', \"Test R^2: {}\".format(test_score))\n",
    "\n",
    "lm.coef_"
=======
   "execution_count": null,
   "metadata": {},
   "outputs": [],
   "source": [
    "from sklearn.metrics import mean_squared_error, mean_squared_log_error\n",
    "\n",
    "# Split in train and test\n",
    "\n",
    "# Fit the model and print R2 and MSE for train and test\n"
>>>>>>> cde55744224318e518dcd8fd2554a774079cd53c
   ]
  },
  {
   "cell_type": "markdown",
   "metadata": {},
   "source": [
    "## Normalize your data"
   ]
  },
  {
   "cell_type": "markdown",
   "metadata": {},
   "source": [
    "We haven't normalized our data, let's create a new model that uses `preprocessing.scale` to scale our predictors!"
   ]
  },
  {
   "cell_type": "code",
<<<<<<< HEAD
   "execution_count": 31,
=======
   "execution_count": null,
>>>>>>> cde55744224318e518dcd8fd2554a774079cd53c
   "metadata": {},
   "outputs": [],
   "source": [
    "from sklearn import preprocessing\n",
    "\n",
    "# Scale the data and perform train test split\n",
<<<<<<< HEAD
    "X_scaled = preprocessing.scale(X)\n",
    "X_scaled = pd.DataFrame(X_scaled)\n",
    "X_train, X_test, y_train, y_test = train_test_split(X_scaled,y)\n"
=======
    "\n"
>>>>>>> cde55744224318e518dcd8fd2554a774079cd53c
   ]
  },
  {
   "cell_type": "markdown",
   "metadata": {},
   "source": [
    "Perform the same linear regression on this data and print out R-squared and MSE."
   ]
  },
  {
   "cell_type": "code",
<<<<<<< HEAD
   "execution_count": 40,
   "metadata": {
    "scrolled": false
   },
   "outputs": [
    {
     "name": "stdout",
     "output_type": "stream",
     "text": [
      "Train MSE: 0.0 \n",
      " Train R^2: 1.0 \n",
      " Test MSE: 0.0 \n",
      " Test R^2: 1.0\n"
     ]
    },
    {
     "data": {
      "text/plain": [
       "array([ 1.97504027e-09, -3.23702461e-02,  3.19547415e-04,  4.30375167e-04,\n",
       "        9.18334684e-05, -1.57583101e-04, -1.35733425e-04, -3.40995458e-04,\n",
       "       -5.84255259e-05,  1.17548773e-05,  2.76661493e-05,  5.39312024e-05,\n",
       "        1.83008024e-04,  5.88507159e-04,  7.23593512e-04, -1.98672168e-04,\n",
       "       -3.51503022e-05,  1.01855760e-06,  2.28311662e-06, -4.38491468e-06,\n",
       "       -4.95894932e-06, -7.35010678e-07, -5.55895158e-07, -4.87151049e-06,\n",
       "        2.57868597e-06,  2.26569671e-07,  3.53897891e-06,  3.80246882e-06,\n",
       "        2.55210755e-07, -8.55480139e-06,  3.25771141e-06,  1.42384874e-07,\n",
       "        6.42083853e-07, -5.42508406e-07, -5.10935705e-07,  1.49174211e-06,\n",
       "        3.72607761e-15, -4.68025123e-11,  1.47002961e-03, -3.20256929e-08,\n",
       "       -3.11297004e-04, -8.25530183e-05,  5.21926941e-06,  6.57676293e-06,\n",
       "        1.88739945e-06, -1.52366397e-04, -1.52567431e-04, -1.52557172e-04,\n",
       "        1.52371564e-04, -2.70585899e-04, -2.71460959e-04, -2.84999131e-04,\n",
       "        2.70490550e-04,  6.77618490e-05, -4.26762300e-06, -4.14563585e-06,\n",
       "        8.72250461e-06,  6.08087186e-06,  3.33696799e-06,  3.42123073e-07,\n",
       "        7.55922515e-06, -1.07495622e-07, -3.03291375e-07, -1.65580517e-08,\n",
       "       -3.03479696e-08, -3.85322739e-09,  1.40017199e-07, -1.11157024e-07,\n",
       "       -2.55459749e-09, -1.60458277e-08,  1.09387453e-09,  1.89046852e-07,\n",
       "       -1.12360352e-06,  1.00000000e+00,  1.81337582e-07,  1.81316201e-07,\n",
       "        1.81315891e-07,  1.81307036e-07,  1.81311176e-07,  8.83343186e-08,\n",
       "        8.83096651e-08,  8.11803901e-14,  4.64795181e-12,  9.09041522e-08,\n",
       "        9.08993492e-08,  9.09068977e-08,  9.09004128e-08,  7.50968063e-08,\n",
       "        7.50987214e-08,  7.51060251e-08,  7.51006137e-08,  5.75815356e-08,\n",
       "        5.76038205e-08, -2.65061768e-08, -2.65145658e-08, -2.65072230e-08,\n",
       "       -2.65153803e-08, -2.65075716e-08,  3.92326278e-08,  3.92302257e-08,\n",
       "        3.92439812e-08, -1.11889280e-08, -1.11934604e-08, -1.11923298e-08,\n",
       "       -1.11875887e-08, -1.11810252e-08, -1.11812913e-08, -1.11911167e-08,\n",
       "       -1.11864484e-08, -1.11956308e-08, -1.11864552e-08, -1.11993908e-08,\n",
       "       -1.11875541e-08, -1.11814855e-08, -1.11711767e-08, -1.11933770e-08,\n",
       "       -1.11799999e-08, -1.11791888e-08, -1.11869607e-08, -1.11842289e-08,\n",
       "       -1.11774561e-08, -1.11835588e-08, -1.11913709e-08, -1.12052524e-08,\n",
       "       -1.11854048e-08, -1.11832501e-08, -6.42896620e-09, -6.42908227e-09,\n",
       "       -6.43642205e-09, -6.43900894e-09, -6.43431731e-09, -6.44260694e-09,\n",
       "       -6.43193464e-09, -6.44882903e-09, -6.43493070e-09, -1.41256477e-08,\n",
       "       -1.41743390e-08, -1.41639925e-08,  5.28999464e-08, -1.73227159e-08,\n",
       "        5.00175330e-08, -1.41647921e-08, -1.41876191e-08,  3.07126690e-07,\n",
       "        3.07127425e-07,  3.07125705e-07,  3.07113758e-07,  3.07123639e-07,\n",
       "       -3.51658273e-07, -3.51664267e-07, -3.51657513e-07, -3.51634776e-07,\n",
       "       -3.51650592e-07, -3.51645198e-07, -3.51661724e-07, -3.51672915e-07,\n",
       "        5.76401972e-08,  5.76464967e-08,  5.76648675e-08,  5.76479641e-08,\n",
       "        5.76507845e-08,  5.76539761e-08,  4.42024805e-09,  1.95223233e-08,\n",
       "        1.95347973e-08,  1.95364968e-08, -6.59834749e-09,  1.95477830e-08,\n",
       "        1.95240495e-08,  1.95017146e-08, -2.93330901e-08, -3.05545579e-08,\n",
       "       -2.93606263e-08, -2.93365207e-08,  1.54699246e-09, -2.94223075e-08,\n",
       "       -2.93294655e-08, -2.93454204e-08, -2.93338035e-08, -2.93365612e-08,\n",
       "       -2.93874093e-08, -2.93549503e-08, -2.93312326e-08, -2.93320174e-08,\n",
       "       -2.93253050e-08,  7.35813236e-08,  7.35848684e-08,  7.35597046e-08,\n",
       "        7.35703925e-08,  4.86817424e-09,  7.36692994e-08,  7.35758681e-08,\n",
       "        7.35853209e-08,  7.35771690e-08,  7.35585582e-08,  7.35724272e-08,\n",
       "        7.36047472e-08,  7.36054075e-08,  7.35701001e-08,  7.35728697e-08,\n",
       "        7.35590690e-08, -3.05311705e-11, -1.11941616e-11, -1.70658289e-11,\n",
       "       -1.31068510e-11, -5.78140094e-08, -5.78049058e-08, -5.77978973e-08,\n",
       "       -5.77963601e-08, -5.40001453e-08,  1.30690277e-08,  1.30659749e-08,\n",
       "        1.30715386e-08,  1.30572651e-08,  4.17063967e-08,  4.16955907e-08,\n",
       "        4.16951293e-08,  4.16868701e-08,  4.16963299e-08,  4.16937495e-08,\n",
       "       -6.88285608e-08, -6.88109297e-08, -6.88294455e-08, -6.88233075e-08,\n",
       "       -3.54609941e-08, -3.54613096e-08, -3.29449329e-08, -3.54621233e-08,\n",
       "        1.12788891e-07,  1.12786563e-07,  1.12790728e-07,  1.12788139e-07,\n",
       "       -8.53715045e-09, -8.53398242e-09, -8.53685409e-09, -8.52937020e-09,\n",
       "       -8.53240946e-09, -8.52833497e-09,  3.37034567e-11,  1.66385568e-11,\n",
       "        2.21232291e-11,  1.52533703e-11,  2.03136701e-11,  8.20329720e-12,\n",
       "        5.35744105e-08,  5.35867355e-08,  5.35879859e-08,  5.35912930e-08,\n",
       "        5.35932823e-08,  5.36184861e-08,  8.99642824e-08,  8.99645247e-08,\n",
       "        8.99706129e-08,  0.00000000e+00,  8.99647386e-08, -9.00619583e-08,\n",
       "       -9.00584485e-08,  8.71191153e-13,  5.92888788e-12, -2.10247309e-11,\n",
       "       -2.52560331e-09, -5.21567780e-12, -2.29365618e-08, -2.29258693e-08,\n",
       "       -2.29314855e-08, -2.29283787e-08,  1.11978389e-07,  1.11976237e-07,\n",
       "        1.11989929e-07,  1.11994951e-07,  1.11977662e-07,  0.00000000e+00,\n",
       "        1.11988810e-07,  6.39800970e-12, -1.06944111e-14,  9.98151301e-14,\n",
       "       -6.75435165e-14, -1.75829823e-12,  7.08803026e-08,  7.08752705e-08,\n",
       "        7.08802374e-08,  7.08716498e-08,  7.08783186e-08,  7.08774894e-08,\n",
       "        6.98965868e-08,  6.99024528e-08,  6.99019046e-08, -7.57613226e-08,\n",
       "       -9.85660999e-08, -9.85621467e-08, -9.85838415e-08, -9.85615193e-08,\n",
       "       -6.50052878e-08, -4.22178037e-08, -4.22333747e-08, -4.22028564e-08,\n",
       "       -4.22168018e-08,  1.32064121e-07,  1.32062133e-07,  1.32063380e-07,\n",
       "        0.00000000e+00,  1.73025049e-08,  4.35964489e-08,  2.02497795e-12,\n",
       "       -3.05401687e-12,  5.13800243e-13, -2.31370336e-12, -6.42158707e-08,\n",
       "        1.56153123e-11,  1.56841329e-12,  1.33920130e-08, -1.42580855e-08,\n",
       "       -1.42941557e-08, -1.42465260e-08, -1.42589629e-08, -1.42837011e-08,\n",
       "       -1.42606001e-08, -1.42475199e-08, -1.42432531e-08, -1.42567629e-08,\n",
       "       -3.38409131e-08, -3.38268241e-08, -3.38467849e-08, -3.38369652e-08,\n",
       "       -3.38435336e-08, -3.38517509e-08])"
      ]
     },
     "execution_count": 40,
     "metadata": {},
     "output_type": "execute_result"
    }
   ],
   "source": [
    "# Your code here\n",
    "lm = LinearRegression()\n",
    "lm.fit(X_train, y_train)\n",
    "y_hat_train = lm.predict(X_train)\n",
    "y_hat_test = lm.predict(X_test)\n",
    "train_mse = mean_squared_error(y_train, y_hat_train)\n",
    "test_mse = mean_squared_error(y_test, y_hat_test)\n",
    "train_score = lm.score(X_train, y_train)\n",
    "test_score = lm.score(X_test, y_test)\n",
    "\n",
    "print(\"Train MSE: {}\".format(round(train_mse,2)), \"\\n\", \"Train R^2: {}\".format(train_score), \n",
    "      '\\n', \"Test MSE: {}\".format(round(test_mse, 2)),'\\n', \"Test R^2: {}\".format(test_score))\n",
    "\n",
    "lm.coef_"
=======
   "execution_count": null,
   "metadata": {},
   "outputs": [],
   "source": [
    "# Your code here"
>>>>>>> cde55744224318e518dcd8fd2554a774079cd53c
   ]
  },
  {
   "cell_type": "markdown",
   "metadata": {},
   "source": [
    "## Include dummy variables"
   ]
  },
  {
   "cell_type": "markdown",
   "metadata": {},
   "source": [
    "Your model hasn't included dummy variables so far: let's use the \"object\" variables again and create dummies"
   ]
  },
  {
   "cell_type": "code",
<<<<<<< HEAD
   "execution_count": 33,
   "metadata": {},
   "outputs": [],
   "source": [
    "# Create X_cat which contains only the categorical variables\n",
    "X_cat = df.copy()\n",
    "for column in X.columns:\n",
    "    if X[column].dtype!='O':\n",
    "        X.drop([column], axis=1, inplace=True)\n",
    "    if column=='SalePrice':\n",
    "        X.drop([column], axis=1, inplace=True)\n",
    "    "
=======
   "execution_count": null,
   "metadata": {},
   "outputs": [],
   "source": [
    "# Create X_cat which contains only the categorical variables"
>>>>>>> cde55744224318e518dcd8fd2554a774079cd53c
   ]
  },
  {
   "cell_type": "code",
<<<<<<< HEAD
   "execution_count": 34,
   "metadata": {},
   "outputs": [],
   "source": [
    "# Make dummies\n",
    "X_cat = pd.get_dummies(X_cat)\n"
   ]
  },
  {
   "cell_type": "code",
   "execution_count": 35,
   "metadata": {},
   "outputs": [
    {
     "name": "stdout",
     "output_type": "stream",
     "text": [
      "<class 'pandas.core.frame.DataFrame'>\n",
      "RangeIndex: 1460 entries, 0 to 1459\n",
      "Columns: 290 entries, Id to SaleCondition_Partial\n",
      "dtypes: float64(3), int64(35), uint8(252)\n",
      "memory usage: 792.8 KB\n"
     ]
    }
   ],
   "source": [
    "X_cat.info()"
=======
   "execution_count": null,
   "metadata": {},
   "outputs": [],
   "source": [
    "# Make dummies\n"
>>>>>>> cde55744224318e518dcd8fd2554a774079cd53c
   ]
  },
  {
   "cell_type": "markdown",
   "metadata": {},
   "source": [
    "Merge `x_cat` together with our scaled `X` so you have one big predictor dataframe."
   ]
  },
  {
   "cell_type": "code",
<<<<<<< HEAD
   "execution_count": 36,
   "metadata": {},
   "outputs": [],
   "source": [
    "# Your code here\n",
    "merged_df = pd.concat([X_scaled, X_cat], axis=1)"
   ]
  },
  {
   "cell_type": "code",
   "execution_count": 38,
   "metadata": {},
   "outputs": [
    {
     "data": {
      "text/html": [
       "<div>\n",
       "<style scoped>\n",
       "    .dataframe tbody tr th:only-of-type {\n",
       "        vertical-align: middle;\n",
       "    }\n",
       "\n",
       "    .dataframe tbody tr th {\n",
       "        vertical-align: top;\n",
       "    }\n",
       "\n",
       "    .dataframe thead th {\n",
       "        text-align: right;\n",
       "    }\n",
       "</style>\n",
       "<table border=\"1\" class=\"dataframe\">\n",
       "  <thead>\n",
       "    <tr style=\"text-align: right;\">\n",
       "      <th></th>\n",
       "      <th>0</th>\n",
       "      <th>1</th>\n",
       "      <th>2</th>\n",
       "      <th>3</th>\n",
       "      <th>4</th>\n",
       "      <th>5</th>\n",
       "      <th>6</th>\n",
       "      <th>7</th>\n",
       "      <th>8</th>\n",
       "      <th>9</th>\n",
       "      <th>...</th>\n",
       "      <th>SaleType_ConLw</th>\n",
       "      <th>SaleType_New</th>\n",
       "      <th>SaleType_Oth</th>\n",
       "      <th>SaleType_WD</th>\n",
       "      <th>SaleCondition_Abnorml</th>\n",
       "      <th>SaleCondition_AdjLand</th>\n",
       "      <th>SaleCondition_Alloca</th>\n",
       "      <th>SaleCondition_Family</th>\n",
       "      <th>SaleCondition_Normal</th>\n",
       "      <th>SaleCondition_Partial</th>\n",
       "    </tr>\n",
       "  </thead>\n",
       "  <tbody>\n",
       "    <tr>\n",
       "      <th>0</th>\n",
       "      <td>0.073375</td>\n",
       "      <td>-0.220875</td>\n",
       "      <td>-0.207142</td>\n",
       "      <td>0.651479</td>\n",
       "      <td>-0.517200</td>\n",
       "      <td>1.050994</td>\n",
       "      <td>0.878668</td>\n",
       "      <td>0.514104</td>\n",
       "      <td>0.575425</td>\n",
       "      <td>-0.288653</td>\n",
       "      <td>...</td>\n",
       "      <td>0</td>\n",
       "      <td>0</td>\n",
       "      <td>0</td>\n",
       "      <td>1</td>\n",
       "      <td>0</td>\n",
       "      <td>0</td>\n",
       "      <td>0</td>\n",
       "      <td>0</td>\n",
       "      <td>1</td>\n",
       "      <td>0</td>\n",
       "    </tr>\n",
       "    <tr>\n",
       "      <th>1</th>\n",
       "      <td>-0.872563</td>\n",
       "      <td>0.460320</td>\n",
       "      <td>-0.091886</td>\n",
       "      <td>-0.071836</td>\n",
       "      <td>2.179628</td>\n",
       "      <td>0.156734</td>\n",
       "      <td>-0.429577</td>\n",
       "      <td>-0.570750</td>\n",
       "      <td>1.171992</td>\n",
       "      <td>-0.288653</td>\n",
       "      <td>...</td>\n",
       "      <td>0</td>\n",
       "      <td>0</td>\n",
       "      <td>0</td>\n",
       "      <td>1</td>\n",
       "      <td>0</td>\n",
       "      <td>0</td>\n",
       "      <td>0</td>\n",
       "      <td>0</td>\n",
       "      <td>1</td>\n",
       "      <td>0</td>\n",
       "    </tr>\n",
       "    <tr>\n",
       "      <th>2</th>\n",
       "      <td>0.073375</td>\n",
       "      <td>-0.084636</td>\n",
       "      <td>0.073480</td>\n",
       "      <td>0.651479</td>\n",
       "      <td>-0.517200</td>\n",
       "      <td>0.984752</td>\n",
       "      <td>0.830215</td>\n",
       "      <td>0.325915</td>\n",
       "      <td>0.092907</td>\n",
       "      <td>-0.288653</td>\n",
       "      <td>...</td>\n",
       "      <td>0</td>\n",
       "      <td>0</td>\n",
       "      <td>0</td>\n",
       "      <td>1</td>\n",
       "      <td>0</td>\n",
       "      <td>0</td>\n",
       "      <td>0</td>\n",
       "      <td>0</td>\n",
       "      <td>1</td>\n",
       "      <td>0</td>\n",
       "    </tr>\n",
       "    <tr>\n",
       "      <th>3</th>\n",
       "      <td>0.309859</td>\n",
       "      <td>-0.447940</td>\n",
       "      <td>-0.096897</td>\n",
       "      <td>0.651479</td>\n",
       "      <td>-0.517200</td>\n",
       "      <td>-1.863632</td>\n",
       "      <td>-0.720298</td>\n",
       "      <td>-0.570750</td>\n",
       "      <td>-0.499274</td>\n",
       "      <td>-0.288653</td>\n",
       "      <td>...</td>\n",
       "      <td>0</td>\n",
       "      <td>0</td>\n",
       "      <td>0</td>\n",
       "      <td>1</td>\n",
       "      <td>1</td>\n",
       "      <td>0</td>\n",
       "      <td>0</td>\n",
       "      <td>0</td>\n",
       "      <td>0</td>\n",
       "      <td>0</td>\n",
       "    </tr>\n",
       "    <tr>\n",
       "      <th>4</th>\n",
       "      <td>0.073375</td>\n",
       "      <td>0.641972</td>\n",
       "      <td>0.375148</td>\n",
       "      <td>1.374795</td>\n",
       "      <td>-0.517200</td>\n",
       "      <td>0.951632</td>\n",
       "      <td>0.733308</td>\n",
       "      <td>1.366489</td>\n",
       "      <td>0.463568</td>\n",
       "      <td>-0.288653</td>\n",
       "      <td>...</td>\n",
       "      <td>0</td>\n",
       "      <td>0</td>\n",
       "      <td>0</td>\n",
       "      <td>1</td>\n",
       "      <td>0</td>\n",
       "      <td>0</td>\n",
       "      <td>0</td>\n",
       "      <td>0</td>\n",
       "      <td>1</td>\n",
       "      <td>0</td>\n",
       "    </tr>\n",
       "  </tbody>\n",
       "</table>\n",
       "<p>5 rows × 326 columns</p>\n",
       "</div>"
      ],
      "text/plain": [
       "          0         1         2         3         4         5         6  \\\n",
       "0  0.073375 -0.220875 -0.207142  0.651479 -0.517200  1.050994  0.878668   \n",
       "1 -0.872563  0.460320 -0.091886 -0.071836  2.179628  0.156734 -0.429577   \n",
       "2  0.073375 -0.084636  0.073480  0.651479 -0.517200  0.984752  0.830215   \n",
       "3  0.309859 -0.447940 -0.096897  0.651479 -0.517200 -1.863632 -0.720298   \n",
       "4  0.073375  0.641972  0.375148  1.374795 -0.517200  0.951632  0.733308   \n",
       "\n",
       "          7         8         9          ...            SaleType_ConLw  \\\n",
       "0  0.514104  0.575425 -0.288653          ...                         0   \n",
       "1 -0.570750  1.171992 -0.288653          ...                         0   \n",
       "2  0.325915  0.092907 -0.288653          ...                         0   \n",
       "3 -0.570750 -0.499274 -0.288653          ...                         0   \n",
       "4  1.366489  0.463568 -0.288653          ...                         0   \n",
       "\n",
       "   SaleType_New  SaleType_Oth  SaleType_WD  SaleCondition_Abnorml  \\\n",
       "0             0             0            1                      0   \n",
       "1             0             0            1                      0   \n",
       "2             0             0            1                      0   \n",
       "3             0             0            1                      1   \n",
       "4             0             0            1                      0   \n",
       "\n",
       "   SaleCondition_AdjLand  SaleCondition_Alloca  SaleCondition_Family  \\\n",
       "0                      0                     0                     0   \n",
       "1                      0                     0                     0   \n",
       "2                      0                     0                     0   \n",
       "3                      0                     0                     0   \n",
       "4                      0                     0                     0   \n",
       "\n",
       "   SaleCondition_Normal  SaleCondition_Partial  \n",
       "0                     1                      0  \n",
       "1                     1                      0  \n",
       "2                     1                      0  \n",
       "3                     0                      0  \n",
       "4                     1                      0  \n",
       "\n",
       "[5 rows x 326 columns]"
      ]
     },
     "execution_count": 38,
     "metadata": {},
     "output_type": "execute_result"
    }
   ],
   "source": [
    "merged_df.head()"
=======
   "execution_count": null,
   "metadata": {},
   "outputs": [],
   "source": [
    "# Your code here"
>>>>>>> cde55744224318e518dcd8fd2554a774079cd53c
   ]
  },
  {
   "cell_type": "markdown",
   "metadata": {},
   "source": [
    "Perform the same linear regression on this data and print out R-squared and MSE."
   ]
  },
  {
   "cell_type": "code",
   "execution_count": null,
   "metadata": {},
   "outputs": [],
   "source": [
<<<<<<< HEAD
    "# Your code here\n",
    "X_train, X_test, y_train, y_test = train_test_split(merged_df,y)\n",
    "\n",
    "for column in X_train.columns:\n",
    "    X_train[column].fillna(np.nanmedian(X_train[column]), inplace=True)\n",
    "\n",
    "for column in X_test.columns:\n",
    "    X_test[column].fillna(np.nanmedian(X_test[column]), inplace=True)\n",
    "\n",
    "\n",
    "\n",
    "lm = LinearRegression()\n",
    "lm.fit(X_train, y_train)\n",
    "y_hat_train = lm.predict(X_train)\n",
    "y_hat_test = lm.predict(X_test)\n",
    "train_mse = mean_squared_error(y_train, y_hat_train)\n",
    "test_mse = mean_squared_error(y_test, y_hat_test)\n",
    "train_score = lm.score(X_train, y_train)\n",
    "test_score = lm.score(X_test, y_test)\n",
    "\n",
    "print(\"Train MSE: {}\".format(round(train_mse,2)), \"\\n\", \"Train R^2: {}\".format(train_score), \n",
    "      '\\n', \"Test MSE: {}\".format(round(test_mse, 2)),'\\n', \"Test R^2: {}\".format(test_score))"
   ]
  },
  {
   "cell_type": "code",
   "execution_count": 39,
   "metadata": {},
   "outputs": [
    {
     "name": "stdout",
     "output_type": "stream",
     "text": [
      "Train MSE: 0.0 \n",
      " Train R^2: 1.0 \n",
      " Test MSE: 0.0 \n",
      " Test R^2: 1.0\n"
     ]
    },
    {
     "data": {
      "text/plain": [
       "array([ 1.97504027e-09, -3.23702461e-02,  3.19547415e-04,  4.30375167e-04,\n",
       "        9.18334684e-05, -1.57583101e-04, -1.35733425e-04, -3.40995458e-04,\n",
       "       -5.84255259e-05,  1.17548773e-05,  2.76661493e-05,  5.39312024e-05,\n",
       "        1.83008024e-04,  5.88507159e-04,  7.23593512e-04, -1.98672168e-04,\n",
       "       -3.51503022e-05,  1.01855760e-06,  2.28311662e-06, -4.38491468e-06,\n",
       "       -4.95894932e-06, -7.35010678e-07, -5.55895158e-07, -4.87151049e-06,\n",
       "        2.57868597e-06,  2.26569671e-07,  3.53897891e-06,  3.80246882e-06,\n",
       "        2.55210755e-07, -8.55480139e-06,  3.25771141e-06,  1.42384874e-07,\n",
       "        6.42083853e-07, -5.42508406e-07, -5.10935705e-07,  1.49174211e-06,\n",
       "        3.72607761e-15, -4.68025123e-11,  1.47002961e-03, -3.20256929e-08,\n",
       "       -3.11297004e-04, -8.25530183e-05,  5.21926941e-06,  6.57676293e-06,\n",
       "        1.88739945e-06, -1.52366397e-04, -1.52567431e-04, -1.52557172e-04,\n",
       "        1.52371564e-04, -2.70585899e-04, -2.71460959e-04, -2.84999131e-04,\n",
       "        2.70490550e-04,  6.77618490e-05, -4.26762300e-06, -4.14563585e-06,\n",
       "        8.72250461e-06,  6.08087186e-06,  3.33696799e-06,  3.42123073e-07,\n",
       "        7.55922515e-06, -1.07495622e-07, -3.03291375e-07, -1.65580517e-08,\n",
       "       -3.03479696e-08, -3.85322739e-09,  1.40017199e-07, -1.11157024e-07,\n",
       "       -2.55459749e-09, -1.60458277e-08,  1.09387453e-09,  1.89046852e-07,\n",
       "       -1.12360352e-06,  1.00000000e+00,  1.81337582e-07,  1.81316201e-07,\n",
       "        1.81315891e-07,  1.81307036e-07,  1.81311176e-07,  8.83343186e-08,\n",
       "        8.83096651e-08,  8.11803901e-14,  4.64795181e-12,  9.09041522e-08,\n",
       "        9.08993492e-08,  9.09068977e-08,  9.09004128e-08,  7.50968063e-08,\n",
       "        7.50987214e-08,  7.51060251e-08,  7.51006137e-08,  5.75815356e-08,\n",
       "        5.76038205e-08, -2.65061768e-08, -2.65145658e-08, -2.65072230e-08,\n",
       "       -2.65153803e-08, -2.65075716e-08,  3.92326278e-08,  3.92302257e-08,\n",
       "        3.92439812e-08, -1.11889280e-08, -1.11934604e-08, -1.11923298e-08,\n",
       "       -1.11875887e-08, -1.11810252e-08, -1.11812913e-08, -1.11911167e-08,\n",
       "       -1.11864484e-08, -1.11956308e-08, -1.11864552e-08, -1.11993908e-08,\n",
       "       -1.11875541e-08, -1.11814855e-08, -1.11711767e-08, -1.11933770e-08,\n",
       "       -1.11799999e-08, -1.11791888e-08, -1.11869607e-08, -1.11842289e-08,\n",
       "       -1.11774561e-08, -1.11835588e-08, -1.11913709e-08, -1.12052524e-08,\n",
       "       -1.11854048e-08, -1.11832501e-08, -6.42896620e-09, -6.42908227e-09,\n",
       "       -6.43642205e-09, -6.43900894e-09, -6.43431731e-09, -6.44260694e-09,\n",
       "       -6.43193464e-09, -6.44882903e-09, -6.43493070e-09, -1.41256477e-08,\n",
       "       -1.41743390e-08, -1.41639925e-08,  5.28999464e-08, -1.73227159e-08,\n",
       "        5.00175330e-08, -1.41647921e-08, -1.41876191e-08,  3.07126690e-07,\n",
       "        3.07127425e-07,  3.07125705e-07,  3.07113758e-07,  3.07123639e-07,\n",
       "       -3.51658273e-07, -3.51664267e-07, -3.51657513e-07, -3.51634776e-07,\n",
       "       -3.51650592e-07, -3.51645198e-07, -3.51661724e-07, -3.51672915e-07,\n",
       "        5.76401972e-08,  5.76464967e-08,  5.76648675e-08,  5.76479641e-08,\n",
       "        5.76507845e-08,  5.76539761e-08,  4.42024805e-09,  1.95223233e-08,\n",
       "        1.95347973e-08,  1.95364968e-08, -6.59834749e-09,  1.95477830e-08,\n",
       "        1.95240495e-08,  1.95017146e-08, -2.93330901e-08, -3.05545579e-08,\n",
       "       -2.93606263e-08, -2.93365207e-08,  1.54699246e-09, -2.94223075e-08,\n",
       "       -2.93294655e-08, -2.93454204e-08, -2.93338035e-08, -2.93365612e-08,\n",
       "       -2.93874093e-08, -2.93549503e-08, -2.93312326e-08, -2.93320174e-08,\n",
       "       -2.93253050e-08,  7.35813236e-08,  7.35848684e-08,  7.35597046e-08,\n",
       "        7.35703925e-08,  4.86817424e-09,  7.36692994e-08,  7.35758681e-08,\n",
       "        7.35853209e-08,  7.35771690e-08,  7.35585582e-08,  7.35724272e-08,\n",
       "        7.36047472e-08,  7.36054075e-08,  7.35701001e-08,  7.35728697e-08,\n",
       "        7.35590690e-08, -3.05311705e-11, -1.11941616e-11, -1.70658289e-11,\n",
       "       -1.31068510e-11, -5.78140094e-08, -5.78049058e-08, -5.77978973e-08,\n",
       "       -5.77963601e-08, -5.40001453e-08,  1.30690277e-08,  1.30659749e-08,\n",
       "        1.30715386e-08,  1.30572651e-08,  4.17063967e-08,  4.16955907e-08,\n",
       "        4.16951293e-08,  4.16868701e-08,  4.16963299e-08,  4.16937495e-08,\n",
       "       -6.88285608e-08, -6.88109297e-08, -6.88294455e-08, -6.88233075e-08,\n",
       "       -3.54609941e-08, -3.54613096e-08, -3.29449329e-08, -3.54621233e-08,\n",
       "        1.12788891e-07,  1.12786563e-07,  1.12790728e-07,  1.12788139e-07,\n",
       "       -8.53715045e-09, -8.53398242e-09, -8.53685409e-09, -8.52937020e-09,\n",
       "       -8.53240946e-09, -8.52833497e-09,  3.37034567e-11,  1.66385568e-11,\n",
       "        2.21232291e-11,  1.52533703e-11,  2.03136701e-11,  8.20329720e-12,\n",
       "        5.35744105e-08,  5.35867355e-08,  5.35879859e-08,  5.35912930e-08,\n",
       "        5.35932823e-08,  5.36184861e-08,  8.99642824e-08,  8.99645247e-08,\n",
       "        8.99706129e-08,  0.00000000e+00,  8.99647386e-08, -9.00619583e-08,\n",
       "       -9.00584485e-08,  8.71191153e-13,  5.92888788e-12, -2.10247309e-11,\n",
       "       -2.52560331e-09, -5.21567780e-12, -2.29365618e-08, -2.29258693e-08,\n",
       "       -2.29314855e-08, -2.29283787e-08,  1.11978389e-07,  1.11976237e-07,\n",
       "        1.11989929e-07,  1.11994951e-07,  1.11977662e-07,  0.00000000e+00,\n",
       "        1.11988810e-07,  6.39800970e-12, -1.06944111e-14,  9.98151301e-14,\n",
       "       -6.75435165e-14, -1.75829823e-12,  7.08803026e-08,  7.08752705e-08,\n",
       "        7.08802374e-08,  7.08716498e-08,  7.08783186e-08,  7.08774894e-08,\n",
       "        6.98965868e-08,  6.99024528e-08,  6.99019046e-08, -7.57613226e-08,\n",
       "       -9.85660999e-08, -9.85621467e-08, -9.85838415e-08, -9.85615193e-08,\n",
       "       -6.50052878e-08, -4.22178037e-08, -4.22333747e-08, -4.22028564e-08,\n",
       "       -4.22168018e-08,  1.32064121e-07,  1.32062133e-07,  1.32063380e-07,\n",
       "        0.00000000e+00,  1.73025049e-08,  4.35964489e-08,  2.02497795e-12,\n",
       "       -3.05401687e-12,  5.13800243e-13, -2.31370336e-12, -6.42158707e-08,\n",
       "        1.56153123e-11,  1.56841329e-12,  1.33920130e-08, -1.42580855e-08,\n",
       "       -1.42941557e-08, -1.42465260e-08, -1.42589629e-08, -1.42837011e-08,\n",
       "       -1.42606001e-08, -1.42475199e-08, -1.42432531e-08, -1.42567629e-08,\n",
       "       -3.38409131e-08, -3.38268241e-08, -3.38467849e-08, -3.38369652e-08,\n",
       "       -3.38435336e-08, -3.38517509e-08])"
      ]
     },
     "execution_count": 39,
     "metadata": {},
     "output_type": "execute_result"
    }
   ],
   "source": [
    "lm.coef_"
   ]
  },
  {
   "cell_type": "code",
   "execution_count": 25,
   "metadata": {},
   "outputs": [
    {
     "data": {
      "text/plain": [
       "3"
      ]
     },
     "execution_count": 25,
     "metadata": {},
     "output_type": "execute_result"
    }
   ],
   "source": [
    "(lm.coef_>0.01).sum()"
=======
    "# Your code here"
>>>>>>> cde55744224318e518dcd8fd2554a774079cd53c
   ]
  },
  {
   "cell_type": "markdown",
   "metadata": {},
   "source": [
    "Notice the severe overfitting above; our training R squared is quite high, but the testing R squared is negative! Our predictions are far off. Similarly, the scale of the Testing MSE is orders of magnitude higher than that of the training."
   ]
  },
  {
   "cell_type": "markdown",
   "metadata": {},
   "source": [
    "## Perform Ridge and Lasso regression"
   ]
  },
  {
   "cell_type": "markdown",
   "metadata": {},
   "source": [
    "Use all the data (normalized features and dummy categorical variables) and perform Lasso and Ridge regression for both! Each time, look at R-squared and MSE."
   ]
  },
  {
   "cell_type": "markdown",
   "metadata": {},
   "source": [
    "## Lasso"
   ]
  },
  {
   "cell_type": "markdown",
   "metadata": {},
   "source": [
    "With default parameter (alpha = 1)"
   ]
  },
  {
   "cell_type": "code",
<<<<<<< HEAD
   "execution_count": 23,
   "metadata": {},
   "outputs": [
    {
     "name": "stdout",
     "output_type": "stream",
     "text": [
      "Train MSE: 0.0 \n",
      " Train R^2: 0.9999999999999283 \n",
      " Test MSE: 0.0 \n",
      " Test R^2: 0.9999999999999243\n"
     ]
    },
    {
     "data": {
      "text/plain": [
       "array([-0.00000000e+00,  0.00000000e+00,  0.00000000e+00, -0.00000000e+00,\n",
       "        0.00000000e+00, -0.00000000e+00, -0.00000000e+00,  0.00000000e+00,\n",
       "       -0.00000000e+00,  0.00000000e+00, -0.00000000e+00, -0.00000000e+00,\n",
       "        0.00000000e+00,  0.00000000e+00,  0.00000000e+00,  0.00000000e+00,\n",
       "        0.00000000e+00,  0.00000000e+00, -0.00000000e+00,  0.00000000e+00,\n",
       "        0.00000000e+00,  0.00000000e+00,  0.00000000e+00,  0.00000000e+00,\n",
       "        0.00000000e+00,  0.00000000e+00,  0.00000000e+00,  0.00000000e+00,\n",
       "        0.00000000e+00,  0.00000000e+00,  0.00000000e+00,  0.00000000e+00,\n",
       "        0.00000000e+00,  0.00000000e+00,  0.00000000e+00,  0.00000000e+00,\n",
       "       -0.00000000e+00,  3.23923379e-06,  0.00000000e+00,  0.00000000e+00,\n",
       "        5.87701357e-07,  0.00000000e+00, -0.00000000e+00, -0.00000000e+00,\n",
       "        0.00000000e+00,  1.57527253e-05, -2.32590271e-04, -2.04887175e-04,\n",
       "       -2.22918792e-04,  2.85582933e-04,  6.97627129e-05,  1.28111014e-04,\n",
       "        0.00000000e+00, -1.36166056e-04, -0.00000000e+00, -0.00000000e+00,\n",
       "       -0.00000000e+00, -0.00000000e+00,  0.00000000e+00,  0.00000000e+00,\n",
       "       -0.00000000e+00, -0.00000000e+00, -0.00000000e+00,  0.00000000e+00,\n",
       "       -6.79163080e-05, -0.00000000e+00, -0.00000000e+00,  0.00000000e+00,\n",
       "       -0.00000000e+00, -0.00000000e+00, -0.00000000e+00,  0.00000000e+00,\n",
       "        0.00000000e+00,  0.00000000e+00,  1.00000010e+00,  0.00000000e+00,\n",
       "        0.00000000e+00,  0.00000000e+00, -0.00000000e+00, -0.00000000e+00,\n",
       "       -0.00000000e+00,  0.00000000e+00,  0.00000000e+00,  0.00000000e+00,\n",
       "       -0.00000000e+00, -0.00000000e+00, -0.00000000e+00,  0.00000000e+00,\n",
       "        0.00000000e+00, -0.00000000e+00, -0.00000000e+00,  0.00000000e+00,\n",
       "        0.00000000e+00,  0.00000000e+00,  0.00000000e+00, -0.00000000e+00,\n",
       "       -0.00000000e+00,  0.00000000e+00, -0.00000000e+00,  0.00000000e+00,\n",
       "        0.00000000e+00, -0.00000000e+00,  0.00000000e+00, -0.00000000e+00,\n",
       "       -0.00000000e+00, -0.00000000e+00, -0.00000000e+00, -0.00000000e+00,\n",
       "        0.00000000e+00, -0.00000000e+00, -0.00000000e+00, -0.00000000e+00,\n",
       "       -0.00000000e+00,  0.00000000e+00,  0.00000000e+00, -0.00000000e+00,\n",
       "        0.00000000e+00, -0.00000000e+00, -0.00000000e+00,  0.00000000e+00,\n",
       "        0.00000000e+00,  0.00000000e+00,  0.00000000e+00,  0.00000000e+00,\n",
       "       -0.00000000e+00, -0.00000000e+00, -0.00000000e+00,  0.00000000e+00,\n",
       "        0.00000000e+00, -0.00000000e+00,  0.00000000e+00,  0.00000000e+00,\n",
       "        0.00000000e+00,  0.00000000e+00, -0.00000000e+00, -0.00000000e+00,\n",
       "        0.00000000e+00,  0.00000000e+00, -0.00000000e+00,  0.00000000e+00,\n",
       "        0.00000000e+00,  0.00000000e+00, -0.00000000e+00, -0.00000000e+00,\n",
       "       -0.00000000e+00,  0.00000000e+00,  0.00000000e+00, -0.00000000e+00,\n",
       "       -0.00000000e+00,  0.00000000e+00, -0.00000000e+00, -0.00000000e+00,\n",
       "        0.00000000e+00, -0.00000000e+00,  0.00000000e+00, -0.00000000e+00,\n",
       "        0.00000000e+00,  0.00000000e+00, -0.00000000e+00, -0.00000000e+00,\n",
       "       -0.00000000e+00,  0.00000000e+00,  0.00000000e+00, -0.00000000e+00,\n",
       "       -0.00000000e+00, -0.00000000e+00,  0.00000000e+00,  0.00000000e+00,\n",
       "        0.00000000e+00,  0.00000000e+00,  0.00000000e+00,  0.00000000e+00,\n",
       "        0.00000000e+00,  0.00000000e+00,  0.00000000e+00, -0.00000000e+00,\n",
       "       -0.00000000e+00, -0.00000000e+00,  0.00000000e+00, -0.00000000e+00,\n",
       "        0.00000000e+00,  0.00000000e+00,  0.00000000e+00, -0.00000000e+00,\n",
       "        0.00000000e+00,  0.00000000e+00,  0.00000000e+00,  0.00000000e+00,\n",
       "        0.00000000e+00, -0.00000000e+00, -0.00000000e+00, -0.00000000e+00,\n",
       "       -0.00000000e+00,  0.00000000e+00, -0.00000000e+00,  0.00000000e+00,\n",
       "        0.00000000e+00,  0.00000000e+00,  0.00000000e+00, -0.00000000e+00,\n",
       "        0.00000000e+00,  0.00000000e+00, -0.00000000e+00, -0.00000000e+00,\n",
       "        0.00000000e+00,  0.00000000e+00, -0.00000000e+00, -0.00000000e+00,\n",
       "       -0.00000000e+00,  0.00000000e+00, -0.00000000e+00,  0.00000000e+00,\n",
       "        0.00000000e+00,  0.00000000e+00, -0.00000000e+00,  0.00000000e+00,\n",
       "       -0.00000000e+00, -0.00000000e+00,  0.00000000e+00,  0.00000000e+00,\n",
       "        0.00000000e+00, -0.00000000e+00,  0.00000000e+00, -0.00000000e+00,\n",
       "       -0.00000000e+00,  0.00000000e+00, -0.00000000e+00, -0.00000000e+00,\n",
       "       -0.00000000e+00, -0.00000000e+00, -0.00000000e+00,  0.00000000e+00,\n",
       "       -0.00000000e+00, -0.00000000e+00, -0.00000000e+00,  0.00000000e+00,\n",
       "       -0.00000000e+00, -0.00000000e+00, -0.00000000e+00, -0.00000000e+00,\n",
       "       -0.00000000e+00, -0.00000000e+00, -0.00000000e+00, -0.00000000e+00,\n",
       "       -0.00000000e+00,  0.00000000e+00,  0.00000000e+00, -0.00000000e+00,\n",
       "       -0.00000000e+00,  0.00000000e+00,  0.00000000e+00, -0.00000000e+00,\n",
       "        0.00000000e+00, -0.00000000e+00, -0.00000000e+00,  0.00000000e+00,\n",
       "        0.00000000e+00, -0.00000000e+00, -0.00000000e+00, -0.00000000e+00,\n",
       "        0.00000000e+00, -0.00000000e+00,  0.00000000e+00, -0.00000000e+00,\n",
       "       -0.00000000e+00,  0.00000000e+00, -0.00000000e+00,  0.00000000e+00,\n",
       "        0.00000000e+00,  0.00000000e+00,  0.00000000e+00, -0.00000000e+00,\n",
       "        0.00000000e+00, -0.00000000e+00,  0.00000000e+00,  0.00000000e+00,\n",
       "       -0.00000000e+00,  0.00000000e+00,  0.00000000e+00,  0.00000000e+00,\n",
       "       -0.00000000e+00,  0.00000000e+00,  0.00000000e+00,  0.00000000e+00,\n",
       "        0.00000000e+00,  0.00000000e+00, -0.00000000e+00,  0.00000000e+00,\n",
       "        0.00000000e+00, -0.00000000e+00,  0.00000000e+00, -0.00000000e+00,\n",
       "        0.00000000e+00,  0.00000000e+00, -0.00000000e+00,  0.00000000e+00,\n",
       "       -0.00000000e+00,  0.00000000e+00, -0.00000000e+00,  0.00000000e+00,\n",
       "        0.00000000e+00, -0.00000000e+00, -0.00000000e+00,  0.00000000e+00,\n",
       "        0.00000000e+00, -0.00000000e+00,  0.00000000e+00,  0.00000000e+00,\n",
       "        0.00000000e+00,  0.00000000e+00, -0.00000000e+00, -0.00000000e+00,\n",
       "        0.00000000e+00, -0.00000000e+00, -0.00000000e+00,  0.00000000e+00,\n",
       "        0.00000000e+00, -0.00000000e+00, -0.00000000e+00, -0.00000000e+00,\n",
       "       -0.00000000e+00, -0.00000000e+00, -0.00000000e+00,  0.00000000e+00,\n",
       "        0.00000000e+00, -0.00000000e+00, -0.00000000e+00])"
      ]
     },
     "execution_count": 23,
     "metadata": {},
     "output_type": "execute_result"
    }
   ],
   "source": [
    "# Your code here\n",
    "from sklearn.linear_model import Lasso, Ridge\n",
    "lasso = Lasso(alpha=1)\n",
    "lasso.fit(X_train, y_train)\n",
    "train_mse = mean_squared_error(y_train, y_hat_train)\n",
    "test_mse = mean_squared_error(y_test, y_hat_test)\n",
    "train_score = lasso.score(X_train, y_train)\n",
    "test_score = lasso.score(X_test, y_test)\n",
    "\n",
    "print(\"Train MSE: {}\".format(round(train_mse,2)), \"\\n\", \"Train R^2: {}\".format(train_score), \n",
    "      '\\n', \"Test MSE: {}\".format(round(test_mse, 2)),'\\n', \"Test R^2: {}\".format(test_score))\n",
    "lasso.coef_"
=======
   "execution_count": null,
   "metadata": {},
   "outputs": [],
   "source": [
    "# Your code here"
>>>>>>> cde55744224318e518dcd8fd2554a774079cd53c
   ]
  },
  {
   "cell_type": "markdown",
   "metadata": {},
   "source": [
    "With a higher regularization parameter (alpha = 10)"
   ]
  },
  {
   "cell_type": "code",
<<<<<<< HEAD
   "execution_count": 22,
   "metadata": {},
   "outputs": [
    {
     "name": "stdout",
     "output_type": "stream",
     "text": [
      "Train MSE: 0.0 \n",
      " Train R^2: 1.0 \n",
      " Test MSE: 0.0 \n",
      " Test R^2: 1.0\n"
     ]
    },
    {
     "data": {
      "text/plain": [
       "array([ 0.,  0., -0., -0.,  0., -0.,  0.,  0.,  0.,  0., -0., -0.,  0.,\n",
       "        0., -0., -0., -0.,  0.,  0., -0.,  0., -0., -0., -0., -0.,  0.,\n",
       "        0.,  0.,  0.,  0., -0.,  0.,  0.,  0., -0., -0.,  0.,  0.,  0.,\n",
       "       -0.,  0.,  0., -0.,  0.,  0.,  0., -0.,  0., -0., -0., -0., -0.,\n",
       "        0., -0., -0.,  0., -0., -0., -0.,  0., -0., -0., -0., -0., -0.,\n",
       "       -0., -0.,  0., -0., -0., -0.,  0., -0.,  0.,  1., -0.,  0., -0.,\n",
       "        0., -0., -0.,  0., -0., -0.,  0.,  0.,  0., -0., -0.,  0.,  0.,\n",
       "       -0.,  0.,  0.,  0.,  0., -0.,  0., -0., -0.,  0.,  0.,  0., -0.,\n",
       "       -0., -0.,  0.,  0.,  0., -0.,  0., -0., -0., -0., -0., -0.,  0.,\n",
       "        0.,  0., -0., -0., -0.,  0.,  0.,  0.,  0.,  0., -0., -0.,  0.,\n",
       "        0.,  0., -0.,  0.,  0.,  0.,  0., -0.,  0.,  0.,  0.,  0., -0.,\n",
       "       -0.,  0., -0., -0., -0., -0., -0., -0., -0.,  0., -0.,  0., -0.,\n",
       "       -0.,  0., -0., -0.,  0.,  0.,  0., -0., -0.,  0., -0.,  0.,  0.,\n",
       "        0.,  0., -0., -0., -0.,  0., -0.,  0., -0.,  0., -0., -0.,  0.,\n",
       "       -0.,  0., -0., -0., -0., -0., -0.,  0., -0.,  0., -0.,  0., -0.,\n",
       "        0., -0.,  0., -0.,  0., -0., -0., -0.,  0., -0.,  0.,  0., -0.,\n",
       "        0., -0., -0., -0., -0., -0.,  0., -0., -0.,  0., -0., -0.,  0.,\n",
       "        0., -0.,  0., -0., -0.,  0., -0.,  0.,  0.,  0.,  0., -0., -0.,\n",
       "       -0.,  0., -0., -0., -0.,  0., -0., -0., -0., -0.,  0.,  0.,  0.,\n",
       "       -0., -0., -0., -0.,  0., -0., -0., -0., -0., -0.,  0., -0., -0.,\n",
       "       -0., -0.,  0.,  0., -0.,  0., -0., -0., -0., -0., -0., -0., -0.,\n",
       "        0.,  0., -0.,  0., -0.,  0., -0.,  0., -0.,  0., -0., -0.,  0.,\n",
       "        0., -0.,  0., -0.,  0., -0.,  0., -0., -0.,  0., -0.,  0., -0.,\n",
       "       -0.,  0.,  0.,  0.,  0., -0., -0., -0., -0.,  0., -0., -0.,  0.,\n",
       "       -0., -0.,  0., -0.,  0., -0.,  0., -0., -0., -0., -0., -0., -0.,\n",
       "       -0.,  0.])"
      ]
     },
     "execution_count": 22,
     "metadata": {},
     "output_type": "execute_result"
    }
   ],
   "source": [
    "# Your code here\n",
    "lasso = Lasso(alpha=10)\n",
    "lasso.fit(X_train, y_train)\n",
    "train_mse = mean_squared_error(y_train, y_hat_train)\n",
    "test_mse = mean_squared_error(y_test, y_hat_test)\n",
    "train_score = lasso.score(X_train, y_train)\n",
    "test_score = lasso.score(X_test, y_test)\n",
    "\n",
    "print(\"Train MSE: {}\".format(round(train_mse,2)), \"\\n\", \"Train R^2: {}\".format(train_score), \n",
    "      '\\n', \"Test MSE: {}\".format(round(test_mse, 2)),'\\n', \"Test R^2: {}\".format(test_score))\n",
    "lasso.coef_"
=======
   "execution_count": null,
   "metadata": {},
   "outputs": [],
   "source": [
    "# Your code here"
>>>>>>> cde55744224318e518dcd8fd2554a774079cd53c
   ]
  },
  {
   "cell_type": "markdown",
   "metadata": {},
   "source": [
    "## Ridge"
   ]
  },
  {
   "cell_type": "markdown",
   "metadata": {},
   "source": [
    "With default parameter (alpha = 1)"
   ]
  },
  {
   "cell_type": "code",
<<<<<<< HEAD
   "execution_count": 19,
   "metadata": {},
   "outputs": [
    {
     "name": "stdout",
     "output_type": "stream",
     "text": [
      "Train MSE: 0.0 \n",
      " Train R^2: 1.0 \n",
      " Test MSE: 0.0 \n",
      " Test R^2: 1.0\n"
     ]
    },
    {
     "data": {
      "text/plain": [
       "1"
      ]
     },
     "execution_count": 19,
     "metadata": {},
     "output_type": "execute_result"
    }
   ],
   "source": [
    "ridge = Ridge(alpha=1)\n",
    "ridge.fit(X_train, y_train)\n",
    "train_mse = mean_squared_error(y_train, y_hat_train)\n",
    "test_mse = mean_squared_error(y_test, y_hat_test)\n",
    "train_score = lasso.score(X_train, y_train)\n",
    "test_score = lasso.score(X_test, y_test)\n",
    "print(\"Train MSE: {}\".format(round(train_mse,2)), \"\\n\", \"Train R^2: {}\".format(train_score), \n",
    "      '\\n', \"Test MSE: {}\".format(round(test_mse, 2)),'\\n', \"Test R^2: {}\".format(test_score))\n",
    "(ridge.coef_>0.01).sum()"
=======
   "execution_count": null,
   "metadata": {},
   "outputs": [],
   "source": [
    "# Your code here"
>>>>>>> cde55744224318e518dcd8fd2554a774079cd53c
   ]
  },
  {
   "cell_type": "markdown",
   "metadata": {},
   "source": [
    "With default parameter (alpha = 10)"
   ]
  },
  {
   "cell_type": "code",
<<<<<<< HEAD
   "execution_count": 20,
   "metadata": {},
   "outputs": [
    {
     "name": "stdout",
     "output_type": "stream",
     "text": [
      "Train MSE: 0.0 \n",
      " Train R^2: 1.0 \n",
      " Test MSE: 0.0 \n",
      " Test R^2: 1.0\n"
     ]
    },
    {
     "data": {
      "text/plain": [
       "1"
      ]
     },
     "execution_count": 20,
     "metadata": {},
     "output_type": "execute_result"
    }
   ],
   "source": [
    "ridge = Ridge(alpha=10)\n",
    "ridge.fit(X_train, y_train)\n",
    "train_mse = mean_squared_error(y_train, y_hat_train)\n",
    "test_mse = mean_squared_error(y_test, y_hat_test)\n",
    "train_score = lasso.score(X_train, y_train)\n",
    "test_score = lasso.score(X_test, y_test)\n",
    "\n",
    "print(\"Train MSE: {}\".format(round(train_mse,2)), \"\\n\", \"Train R^2: {}\".format(train_score), \n",
    "      '\\n', \"Test MSE: {}\".format(round(test_mse, 2)),'\\n', \"Test R^2: {}\".format(test_score))\n",
    "(ridge.coef_>0.01).sum()"
=======
   "execution_count": null,
   "metadata": {},
   "outputs": [],
   "source": [
    "# Your code here"
>>>>>>> cde55744224318e518dcd8fd2554a774079cd53c
   ]
  },
  {
   "cell_type": "markdown",
   "metadata": {},
   "source": [
    "## Look at the metrics, what are your main conclusions?   \n",
    "\n",
    "Conclusions here"
   ]
  },
  {
   "cell_type": "markdown",
   "metadata": {},
   "source": [
    "## Compare number of parameter estimates that are (very close to) 0 for Ridge and Lasso"
   ]
  },
  {
   "cell_type": "markdown",
   "metadata": {},
   "source": [
    "Compare with the total length of the parameter space and draw conclusions!"
   ]
  },
  {
   "cell_type": "code",
<<<<<<< HEAD
   "execution_count": 21,
   "metadata": {},
   "outputs": [
    {
     "data": {
      "text/plain": [
       "326"
      ]
     },
     "execution_count": 21,
     "metadata": {},
     "output_type": "execute_result"
    }
   ],
   "source": [
    "# number of Ridge params almost zero\n",
    "len(ridge.coef_)-1"
=======
   "execution_count": null,
   "metadata": {},
   "outputs": [],
   "source": [
    "# number of Ridge params almost zero"
>>>>>>> cde55744224318e518dcd8fd2554a774079cd53c
   ]
  },
  {
   "cell_type": "code",
   "execution_count": null,
   "metadata": {},
   "outputs": [],
   "source": [
<<<<<<< HEAD
    "# number of Lasso params almost zero\n",
    "len(ridge.coef_)-1"
=======
    "# number of Lasso params almost zero"
>>>>>>> cde55744224318e518dcd8fd2554a774079cd53c
   ]
  },
  {
   "cell_type": "markdown",
   "metadata": {},
   "source": [
    "Lasso was very effective to essentially perform variable selection and remove about 25% of the variables from your model!"
   ]
  },
  {
   "cell_type": "code",
   "execution_count": null,
   "metadata": {},
   "outputs": [],
   "source": [
    "# your code here"
   ]
  },
  {
   "cell_type": "markdown",
   "metadata": {},
   "source": [
    "## Summary"
   ]
  },
  {
   "cell_type": "markdown",
   "metadata": {},
   "source": [
    "Great! You now know how to perform Lasso and Ridge regression."
   ]
  }
 ],
 "metadata": {
  "kernelspec": {
   "display_name": "Python 3",
   "language": "python",
   "name": "python3"
  },
  "language_info": {
   "codemirror_mode": {
    "name": "ipython",
    "version": 3
   },
   "file_extension": ".py",
   "mimetype": "text/x-python",
   "name": "python",
   "nbconvert_exporter": "python",
   "pygments_lexer": "ipython3",
<<<<<<< HEAD
   "version": "3.7.1"
=======
   "version": "3.6.6"
>>>>>>> cde55744224318e518dcd8fd2554a774079cd53c
  }
 },
 "nbformat": 4,
 "nbformat_minor": 2
}
